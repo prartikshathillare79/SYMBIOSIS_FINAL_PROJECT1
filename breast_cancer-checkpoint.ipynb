{
 "cells": [
  {
   "cell_type": "code",
   "execution_count": null,
   "id": "6d994a66-2df7-4785-ae6b-2a8cde80be69",
   "metadata": {},
   "outputs": [],
   "source": [
    "import matplotlib.pyplot as plt\n",
    "import seaborn as sns\n",
    "import numpy as np\n",
    "import pandas as pd\n",
    "import warnings\n",
    "warnings.filterwarnings(\"ignore\")"
   ]
  },
  {
   "cell_type": "code",
   "execution_count": null,
   "id": "c5809628-fea8-4b9d-9870-fb1b4212c650",
   "metadata": {},
   "outputs": [],
   "source": [
    "data=pd.read_csv(\"breast-cancer.csv\")\n",
    "data.head(5)"
   ]
  },
  {
   "cell_type": "code",
   "execution_count": null,
   "id": "0c326e52-b9fa-457a-a719-e2cd7e5df5ed",
   "metadata": {},
   "outputs": [],
   "source": [
    "data.info()"
   ]
  },
  {
   "cell_type": "code",
   "execution_count": null,
   "id": "9a1af1d1-c012-4b11-a6af-25b144ff5b5f",
   "metadata": {},
   "outputs": [],
   "source": [
    "df=data.drop(['id'],axis=1)"
   ]
  },
  {
   "cell_type": "code",
   "execution_count": null,
   "id": "6b9e6e0c-8585-4d70-97c4-11519c2b00c1",
   "metadata": {},
   "outputs": [],
   "source": [
    "df.head()"
   ]
  },
  {
   "cell_type": "code",
   "execution_count": null,
   "id": "7ec30971-d3b0-45d0-ae1e-de7da9eb5096",
   "metadata": {},
   "outputs": [],
   "source": [
    "df.info()"
   ]
  },
  {
   "cell_type": "code",
   "execution_count": null,
   "id": "0c4ccf50-da39-42f7-9123-28a7511608a4",
   "metadata": {},
   "outputs": [],
   "source": [
    "df['diagnosis'].value_counts()"
   ]
  },
  {
   "cell_type": "code",
   "execution_count": null,
   "id": "96b50827-da23-431d-b972-de3c3016463b",
   "metadata": {},
   "outputs": [],
   "source": [
    "o=['B','M']\n",
    "sns.countplot(x=\"diagnosis\",data=df,width=0.3,order=o,)\n",
    "plt.show()"
   ]
  },
  {
   "cell_type": "code",
   "execution_count": null,
   "id": "9c149d69-042f-4387-a923-409ec8e8ead0",
   "metadata": {},
   "outputs": [],
   "source": [
    "df.duplicated().sum()"
   ]
  },
  {
   "cell_type": "code",
   "execution_count": null,
   "id": "a19713b5-8164-4706-976a-01aaa61022a3",
   "metadata": {},
   "outputs": [],
   "source": [
    "df.isnull().sum()"
   ]
  },
  {
   "cell_type": "code",
   "execution_count": null,
   "id": "49157eb7-61b9-48a4-a47d-78db999ebe3f",
   "metadata": {},
   "outputs": [],
   "source": [
    "df['diagnosis']=(df['diagnosis'].map({'B':0 ,'M':1,}) )"
   ]
  },
  {
   "cell_type": "code",
   "execution_count": null,
   "id": "011ced27-6a5a-41db-ad2c-b4e32554b717",
   "metadata": {},
   "outputs": [],
   "source": [
    "df['diagnosis'].value_counts()"
   ]
  },
  {
   "cell_type": "code",
   "execution_count": null,
   "id": "efa364e1-a719-41b7-97ef-c7162432b1f4",
   "metadata": {},
   "outputs": [],
   "source": [
    "df.head(2)"
   ]
  },
  {
   "cell_type": "code",
   "execution_count": null,
   "id": "1b058f00-54df-4a04-b33b-06d2151c2d3c",
   "metadata": {},
   "outputs": [],
   "source": [
    "df.columns"
   ]
  },
  {
   "cell_type": "code",
   "execution_count": null,
   "id": "90f6fd94-9d20-4c24-ac3b-437df853ab67",
   "metadata": {},
   "outputs": [],
   "source": [
    "X=df[[ 'radius_mean', 'texture_mean', 'perimeter_mean', 'radius_worst',  'smoothness_worst']]\n",
    "Y=df['diagnosis']"
   ]
  },
  {
   "cell_type": "code",
   "execution_count": null,
   "id": "64db81ff-2847-450b-b352-963e88dfa090",
   "metadata": {},
   "outputs": [],
   "source": [
    "Y.head()"
   ]
  },
  {
   "cell_type": "code",
   "execution_count": null,
   "id": "3cd8cb2d-eb7a-4bcd-9e12-4f14b8a4d6af",
   "metadata": {},
   "outputs": [],
   "source": [
    "Y.info()"
   ]
  },
  {
   "cell_type": "code",
   "execution_count": null,
   "id": "e7dc48d4-c3bb-438d-971c-2fb5b2c56dfd",
   "metadata": {},
   "outputs": [],
   "source": [
    "from sklearn.model_selection import train_test_split"
   ]
  },
  {
   "cell_type": "code",
   "execution_count": null,
   "id": "a7d4e2d1-9c73-4caf-b3ba-5c3713490aaa",
   "metadata": {},
   "outputs": [],
   "source": [
    "X_train,X_test,Y_train,Y_test=train_test_split(X,Y,test_size=0.2,random_state=42)"
   ]
  },
  {
   "cell_type": "code",
   "execution_count": null,
   "id": "33aa3eae-4079-4b0f-b9c8-4245eb05886a",
   "metadata": {},
   "outputs": [],
   "source": [
    "X_train.shape,X_test.shape,Y_train.shape,Y_test.shape"
   ]
  },
  {
   "cell_type": "code",
   "execution_count": null,
   "id": "20626337-139a-4b15-8657-3e0923e86573",
   "metadata": {},
   "outputs": [],
   "source": [
    "from sklearn.linear_model import LogisticRegression\n",
    "from sklearn.metrics import accuracy_score"
   ]
  },
  {
   "cell_type": "code",
   "execution_count": null,
   "id": "09639e2d-0691-46bf-9f32-b0493e5f8b95",
   "metadata": {},
   "outputs": [],
   "source": [
    "model=LogisticRegression()\n",
    "model.fit(X_train,Y_train)"
   ]
  },
  {
   "cell_type": "code",
   "execution_count": null,
   "id": "0967892a-fd44-4b3c-af7f-a6d36a422b38",
   "metadata": {},
   "outputs": [],
   "source": [
    "y_pred = model.predict(X_test)"
   ]
  },
  {
   "cell_type": "code",
   "execution_count": null,
   "id": "96ed1fa3-ab3b-435c-8922-25748767f2e0",
   "metadata": {},
   "outputs": [],
   "source": [
    "X_train_prediction =model.predict(X_train)\n",
    "traing_data_accurcy=accuracy_score(Y_train,X_train_prediction)"
   ]
  },
  {
   "cell_type": "code",
   "execution_count": null,
   "id": "0d6e5b26-d06c-4792-85da-89c2ba08e3fa",
   "metadata": {},
   "outputs": [],
   "source": [
    "print (f\"Accurcy of training data :{traing_data_accurcy:.2f}\")"
   ]
  },
  {
   "cell_type": "code",
   "execution_count": null,
   "id": "3afeb9c2-890b-4c35-9075-6ab3d9360270",
   "metadata": {},
   "outputs": [],
   "source": [
    "print(accuracy_score(Y_train, model.predict(X_train)))\n",
    "log_reg_acc = accuracy_score(Y_test, model.predict(X_test))\n",
    "print(log_reg_acc)\n"
   ]
  },
  {
   "cell_type": "code",
   "execution_count": null,
   "id": "c3289ff4-e902-4405-8294-471125dd4816",
   "metadata": {},
   "outputs": [],
   "source": [
    "accuracy = accuracy_score(Y_test, y_pred)\n",
    "print(f\"Accuracy: {accuracy:.2f}\")"
   ]
  },
  {
   "cell_type": "code",
   "execution_count": null,
   "id": "247af422-6531-49fa-bf3c-5e69fd71a0eb",
   "metadata": {},
   "outputs": [],
   "source": [
    "X_test_prediction =model.predict(X_test)\n",
    "test_data_accurcy=accuracy_score(Y_test,X_test_prediction)"
   ]
  },
  {
   "cell_type": "code",
   "execution_count": null,
   "id": "eeddeac6-bb9e-40d9-87a3-b70d9506be37",
   "metadata": {},
   "outputs": [],
   "source": [
    "print (f\"Accurcy of testing data :{test_data_accurcy:.2f}\")"
   ]
  },
  {
   "cell_type": "code",
   "execution_count": null,
   "id": "3a379b23-bb04-46cc-9fab-99cbdca561d8",
   "metadata": {},
   "outputs": [],
   "source": [
    "input_data=(3.03,\t0.4,2.1,00.8,254.083)\n",
    "data_array=np.asarray(input_data)\n",
    "input_reshape=data_array.reshape(1,-1)\n",
    "\n",
    "prediction=model.predict(input_reshape)\n",
    "\n",
    "print (prediction)\n",
    "if prediction==1:\n",
    "    print (\"The cancer is malignant\")\n",
    "else:\n",
    "    print (\"The cancer is Benign\")\n"
   ]
  },
  {
   "cell_type": "code",
   "execution_count": null,
   "id": "ab35e2f4-4705-49b7-9ab6-ab88b83aac72",
   "metadata": {},
   "outputs": [],
   "source": [
    "import joblib"
   ]
  },
  {
   "cell_type": "code",
   "execution_count": null,
   "id": "4f5eb51f-52b6-46b9-ab5c-4e0db7ae0009",
   "metadata": {},
   "outputs": [],
   "source": [
    "joblib.dump(model,'cancer.pkl')"
   ]
  },
  {
   "cell_type": "code",
   "execution_count": null,
   "id": "298e7e58-cdee-454a-a521-3f98af875f71",
   "metadata": {},
   "outputs": [],
   "source": [
    "from flask import Flask\n",
    "from flask import render_template\n",
    "import joblib\n",
    "from flask import request"
   ]
  },
  {
   "cell_type": "code",
   "execution_count": null,
   "id": "786033eb-101d-47e9-8100-83166b809424",
   "metadata": {},
   "outputs": [],
   "source": [
    "app=Flask(__name__)\n",
    "model=joblib.load('cancer.pkl')\n",
    "@app.route('/')\n",
    "def hello(name=None):\n",
    "    return render_template('index.html',name=name)\n",
    "\n",
    "@app.route('/result',methods=['GET','POST'])\n",
    "def get_value():\n",
    "    if request.method==\"POST\":\n",
    "        rm=float(request.form.get('rm'))\n",
    "        tm=float(request.form.get('tm'))\n",
    "        pm=float(request.form.get('pm'))\n",
    "        rw=float(request.form.get('rw'))\n",
    "        sw=float(request.form.get('sw'))\n",
    "        \n",
    "        predict=model.predict([[rm,tm,pm,rw,sw]])\n",
    "    \n",
    "    \n",
    "    return render_template('result.html',prediction=predict)"
   ]
  },
  {
   "cell_type": "code",
   "execution_count": null,
   "id": "227a379b-b07a-4056-affb-40d02908da0f",
   "metadata": {},
   "outputs": [],
   "source": [
    "if __name__==\"__main__\":\n",
    "    app.run()"
   ]
  },
  {
   "cell_type": "code",
   "execution_count": null,
   "id": "fd663ea4-848a-41ff-98c5-be16a8b2bf96",
   "metadata": {},
   "outputs": [],
   "source": []
  },
  {
   "cell_type": "code",
   "execution_count": null,
   "id": "7166945c-a5d7-4216-9d1b-d6892d429241",
   "metadata": {},
   "outputs": [],
   "source": []
  }
 ],
 "metadata": {
  "kernelspec": {
   "display_name": "Python 3 (ipykernel)",
   "language": "python",
   "name": "python3"
  },
  "language_info": {
   "codemirror_mode": {
    "name": "ipython",
    "version": 3
   },
   "file_extension": ".py",
   "mimetype": "text/x-python",
   "name": "python",
   "nbconvert_exporter": "python",
   "pygments_lexer": "ipython3",
   "version": "3.11.7"
  }
 },
 "nbformat": 4,
 "nbformat_minor": 5
}
